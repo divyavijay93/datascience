{
  "nbformat": 4,
  "nbformat_minor": 0,
  "metadata": {
    "colab": {
      "provenance": []
    },
    "kernelspec": {
      "name": "python3",
      "display_name": "Python 3"
    },
    "language_info": {
      "name": "python"
    }
  },
  "cells": [
    {
      "cell_type": "code",
      "execution_count": null,
      "metadata": {
        "id": "xwfUN0Usi2Qa"
      },
      "outputs": [],
      "source": [
        "#1. Declare two variables, × and 'y, and assign them integer values. Swap the values of these variables without using any temporary variable."
      ]
    },
    {
      "cell_type": "code",
      "source": [
        "x = 20\n",
        "y = 25"
      ],
      "metadata": {
        "id": "SVJPU7tejAyz"
      },
      "execution_count": 2,
      "outputs": []
    },
    {
      "cell_type": "code",
      "source": [
        "x"
      ],
      "metadata": {
        "colab": {
          "base_uri": "https://localhost:8080/"
        },
        "id": "yljAS3KCjfIb",
        "outputId": "8e8418d3-eaab-4ea9-f0f9-e783a634c1bc"
      },
      "execution_count": 3,
      "outputs": [
        {
          "output_type": "execute_result",
          "data": {
            "text/plain": [
              "20"
            ]
          },
          "metadata": {},
          "execution_count": 3
        }
      ]
    },
    {
      "cell_type": "code",
      "source": [
        "y"
      ],
      "metadata": {
        "id": "-MaD0snejha9"
      },
      "execution_count": null,
      "outputs": []
    },
    {
      "cell_type": "code",
      "source": [
        "x, y = y, x\n",
        "print(\"After swapping:\")\n",
        "print(\"x =\", x)\n",
        "print(\"y =\", y)"
      ],
      "metadata": {
        "colab": {
          "base_uri": "https://localhost:8080/"
        },
        "id": "9paUdIFYjiFn",
        "outputId": "744a2d23-d2cc-4fdd-827f-7c2307b187e0"
      },
      "execution_count": 4,
      "outputs": [
        {
          "output_type": "stream",
          "name": "stdout",
          "text": [
            "After swapping:\n",
            "x = 25\n",
            "y = 20\n"
          ]
        }
      ]
    },
    {
      "cell_type": "code",
      "source": [
        "'''2. Create a program that calculates the area of a rectangle.\n",
        "Take the length and width as inputs from the user and store them in variables.\n",
        "Calculate and display the area.'''"
      ],
      "metadata": {
        "id": "zIK_SBZjjm6Z"
      },
      "execution_count": null,
      "outputs": []
    },
    {
      "cell_type": "code",
      "source": [
        "l = float(input(\"Enter the length of the rectangle: \"))\n",
        "w = float(input(\"Enter the width of the rectangle: \"))\n",
        "area = l * w\n",
        "print(\"The area of the rectangle is:\", area)"
      ],
      "metadata": {
        "colab": {
          "base_uri": "https://localhost:8080/"
        },
        "id": "53CdE_dTkT-d",
        "outputId": "f0b43011-8e46-4a8d-f17a-a7e2d9d50d9e"
      },
      "execution_count": 12,
      "outputs": [
        {
          "output_type": "stream",
          "name": "stdout",
          "text": [
            "Enter the length of the rectangle: 10\n",
            "Enter the width of the rectangle: 2\n",
            "The area of the rectangle is: 20.0\n"
          ]
        }
      ]
    },
    {
      "cell_type": "code",
      "source": [
        "#3. Write a Python program that converts temperatures from Celsius to Fahrenheit.\n",
        "#Take the temperature in Celsius as input, store it in a variable, convert it to Fahrenheit, and display the result"
      ],
      "metadata": {
        "id": "LJlqCOB9ksDZ"
      },
      "execution_count": 7,
      "outputs": []
    },
    {
      "cell_type": "code",
      "source": [
        "c= float(input('what is the temperature in Celsius?'))\n",
        "f= (c * 9/5) + 32\n",
        "print(\"The temperature in Fahrenheit is\", f)"
      ],
      "metadata": {
        "colab": {
          "base_uri": "https://localhost:8080/"
        },
        "id": "FiO6Mhx0k6gw",
        "outputId": "d4f6c202-c5b3-4022-d9af-9f113415a488"
      },
      "execution_count": 24,
      "outputs": [
        {
          "output_type": "stream",
          "name": "stdout",
          "text": [
            "what is the temperature in Celsius?32\n",
            "The temperature in Fahrenheit is 89.6\n"
          ]
        }
      ]
    },
    {
      "cell_type": "code",
      "source": [
        "#4. Write a Python program that takes a string as input and prints the length of the string."
      ],
      "metadata": {
        "id": "NWbaoOjWnlLX"
      },
      "execution_count": 25,
      "outputs": []
    },
    {
      "cell_type": "code",
      "source": [
        "string = input(\"Enter a string: \")\n",
        "length = len(string)\n",
        "print(\"The length of the string is:\", length)\n"
      ],
      "metadata": {
        "colab": {
          "base_uri": "https://localhost:8080/"
        },
        "id": "uHLFruB2n8LV",
        "outputId": "df3f6da1-228e-4fed-e953-fbfe27d4d5e4"
      },
      "execution_count": 27,
      "outputs": [
        {
          "output_type": "stream",
          "name": "stdout",
          "text": [
            "Enter a string: python\n",
            "The length of the string is: 6\n"
          ]
        }
      ]
    },
    {
      "cell_type": "code",
      "source": [
        "#6. Given a string, reverse the order of characters using string slicing and print the reversed string."
      ],
      "metadata": {
        "id": "fuAxM9v_orZg"
      },
      "execution_count": 29,
      "outputs": []
    },
    {
      "cell_type": "code",
      "source": [
        "word = \"greenplanet\"\n",
        "reverse= word[::-1]"
      ],
      "metadata": {
        "id": "-F_QVRfgo6r1"
      },
      "execution_count": 40,
      "outputs": []
    },
    {
      "cell_type": "code",
      "source": [
        "reverse"
      ],
      "metadata": {
        "colab": {
          "base_uri": "https://localhost:8080/",
          "height": 35
        },
        "id": "VNkf9098pUOo",
        "outputId": "302b83d4-812f-4c87-d773-1ff0e2bdb76c"
      },
      "execution_count": 41,
      "outputs": [
        {
          "output_type": "execute_result",
          "data": {
            "text/plain": [
              "'tenalpneerg'"
            ],
            "application/vnd.google.colaboratory.intrinsic+json": {
              "type": "string"
            }
          },
          "metadata": {},
          "execution_count": 41
        }
      ]
    },
    {
      "cell_type": "code",
      "source": [
        "#7. Write a program that takes a string as input and checks if it is a palindrome (reads the same forwards and backwards)."
      ],
      "metadata": {
        "id": "PBO7QAoNpw6o"
      },
      "execution_count": 42,
      "outputs": []
    },
    {
      "cell_type": "code",
      "source": [
        "inword= input(\"enter a string\")\n",
        "revword= inword [::-1]\n",
        "if inword==revword:\n",
        "  print(\"it is a palindrome\")\n",
        "else:\n",
        "  print(\"not a palindrome\")"
      ],
      "metadata": {
        "colab": {
          "base_uri": "https://localhost:8080/"
        },
        "id": "wPgZkZuNqUYw",
        "outputId": "55382d97-d52c-41f5-9eab-9078e18a5274"
      },
      "execution_count": 55,
      "outputs": [
        {
          "output_type": "stream",
          "name": "stdout",
          "text": [
            "enter a stringkayak\n",
            "it is a palindrome\n"
          ]
        }
      ]
    },
    {
      "cell_type": "code",
      "source": [
        "#8. Create a program that takes a string as input and removes all the spaces from it. Print the modified string without spaces."
      ],
      "metadata": {
        "id": "lsn0i1aTsTmz"
      },
      "execution_count": 56,
      "outputs": []
    },
    {
      "cell_type": "code",
      "source": [
        "text= input(\"input a string : \")\n",
        "newtext= text.replace(\" \",\"\")\n",
        "print (\"the modified string is:\", newtext)"
      ],
      "metadata": {
        "colab": {
          "base_uri": "https://localhost:8080/"
        },
        "id": "UdzAopUrs8qh",
        "outputId": "58b2de18-592f-45e8-81ea-fb3b65d724a8"
      },
      "execution_count": 58,
      "outputs": [
        {
          "output_type": "stream",
          "name": "stdout",
          "text": [
            "input a string : wonder land\n",
            "the modified string is: wonderland\n"
          ]
        }
      ]
    },
    {
      "cell_type": "code",
      "source": [
        "#5. Create a python program that takes a sentence from the user and counts the number of vowels (a, e, i, o, u) in the string."
      ],
      "metadata": {
        "id": "VNJMMqslIQYv"
      },
      "execution_count": 61,
      "outputs": []
    },
    {
      "cell_type": "code",
      "source": [
        "sentence = input(\"Enter a sentence: \")\n",
        "vowel_count = 0\n",
        "for char in sentence:\n",
        "    if char in \"aeiouAEIOU\":\n",
        "        vowel_count += 1\n",
        "print(\"The number of vowels in the sentence is:\", vowel_count)"
      ],
      "metadata": {
        "colab": {
          "base_uri": "https://localhost:8080/"
        },
        "id": "hyGgqkHEI4cE",
        "outputId": "e7f6844e-08fd-44c5-ec0b-e49dff265cab"
      },
      "execution_count": 62,
      "outputs": [
        {
          "output_type": "stream",
          "name": "stdout",
          "text": [
            "Enter a sentence: the way ahead is very rough\n",
            "The number of vowels in the sentence is: 9\n"
          ]
        }
      ]
    },
    {
      "cell_type": "code",
      "source": [],
      "metadata": {
        "id": "DDH3kQr1JNLT"
      },
      "execution_count": null,
      "outputs": []
    }
  ]
}